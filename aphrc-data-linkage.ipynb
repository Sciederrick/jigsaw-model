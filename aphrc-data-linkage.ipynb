{
 "cells": [
  {
   "cell_type": "markdown",
   "id": "df90d8de-f3ec-4928-9945-a1dea0926666",
   "metadata": {},
   "source": [
    "## Cleaning"
   ]
  },
  {
   "cell_type": "code",
   "execution_count": 133,
   "id": "bb629f34-e0b7-47ae-a5b3-608f69fb8992",
   "metadata": {},
   "outputs": [
    {
     "name": "stdout",
     "output_type": "stream",
     "text": [
      "recnr          int64\n",
      "firstname     object\n",
      "lastname      object\n",
      "petname       object\n",
      "dob           object\n",
      "sex            int64\n",
      "nationalid    object\n",
      "patientid      int64\n",
      "visitdate     object\n",
      "dtype: object\n"
     ]
    }
   ],
   "source": [
    "import pandas as pd\n",
    "\n",
    "df_facility = pd.read_csv('./dataset/synthetic_facility_v3.csv')\n",
    "print(df_facility.dtypes)"
   ]
  },
  {
   "cell_type": "code",
   "execution_count": 134,
   "id": "0d44b3f6-b9fc-4b6e-8dd2-26dde5db3506",
   "metadata": {},
   "outputs": [
    {
     "data": {
      "text/plain": [
       "<bound method NDFrame.describe of       recnr  firstname   lastname    petname               dob  sex  \\\n",
       "0         2     Fatuma        NaN      Zaina  24-08-2017 00:00    2   \n",
       "1         3     Gloria    Rashida        NaN  11-07-1993 00:00    2   \n",
       "2         4        Ali     Hakram      Igomu  17-05-2014 00:00    1   \n",
       "3         5   Nakalema        NaN    Nkwanga  27-02-2026 00:00    2   \n",
       "4         6     Asuman      Sempa      Aguti  02-03-2002 00:00    1   \n",
       "...     ...        ...        ...        ...               ...  ...   \n",
       "2897   2899     Madina   Nakagolo      Nkima  28-07-1955 00:00    2   \n",
       "2898   2900  Namulondo  Namugabwe        NaN  14-09-1933 00:00    2   \n",
       "2899   2901     Ziriya      Kauma       Kato  11-11-1963 00:00    2   \n",
       "2900   2902      Faizo    Buyinza  Ssenyonjo  09-06-1956 00:00    1   \n",
       "2901   2903  Namusobya      Nambi        Gia  29-08-2010 00:00    2   \n",
       "\n",
       "      nationalid  patientid   visitdate  \n",
       "0      N_ID_5000       2069  10-09-2018  \n",
       "1     N_ID_11861       2079  14-12-2022  \n",
       "2     N_ID_11864       2080  09-06-2023  \n",
       "3     N_ID_11867       2081  07-02-2019  \n",
       "4     N_ID_11870       2082  18-08-2020  \n",
       "...          ...        ...         ...  \n",
       "2897  N_ID_13676       4961  17-08-2021  \n",
       "2898  N_ID_13679       4962  21-06-2019  \n",
       "2899  N_ID_13682       4963  27-12-2018  \n",
       "2900  N_ID_13685       4964  01-12-2019  \n",
       "2901  N_ID_13688       4965  10-06-2019  \n",
       "\n",
       "[2902 rows x 9 columns]>"
      ]
     },
     "execution_count": 134,
     "metadata": {},
     "output_type": "execute_result"
    }
   ],
   "source": [
    "df_facility.describe"
   ]
  },
  {
   "cell_type": "code",
   "execution_count": 135,
   "id": "f3325635-0f85-4a29-8403-3128629cf304",
   "metadata": {},
   "outputs": [
    {
     "data": {
      "text/plain": [
       "(2902, 9)"
      ]
     },
     "execution_count": 135,
     "metadata": {},
     "output_type": "execute_result"
    }
   ],
   "source": [
    "df_facility.shape"
   ]
  },
  {
   "cell_type": "code",
   "execution_count": 136,
   "id": "455190f4-c45c-4485-a543-ed57891076b1",
   "metadata": {},
   "outputs": [],
   "source": [
    "# Checking for non-null\n",
    "if df_facility['recnr'].nunique() != df_facility.shape[0]:\n",
    "    print('# of non-unique recnr values: ', df_facility['recnr'].nunique())\n",
    "if df_facility['recnr'].isna().sum() != 0:\n",
    "    print('# of null recnr values: ', df_facility['recnr'].isna().sum())\n",
    "if df_facility['sex'].isna().sum() != 0:\n",
    "    print('# of null sex values: ', df_facility['sex'].isna().sum())\n",
    "if df_facility['nationalid'].nunique() != df_facility.shape[0]:\n",
    "    print('# of non-unique nationalid values: ', df_facility['nationalid'].nunique())\n",
    "if df_facility['nationalid'].isna().sum() != 0:\n",
    "    print('# of null nationalid values: ', df_facility['nationalid'].isna().sum())\n",
    "if df_facility['patientid'].nunique() != df_facility.shape[0]:\n",
    "    print('# of non-unique patientid values: ', df_facility['patientid'].nunique())\n",
    "if df_facility['patientid'].isna().sum() != 0:\n",
    "    print('# of null patientid values: ', df_facility['patientid'].isna().sum())\n",
    "if df_facility['visitdate'].isna().sum() != 0:\n",
    "    print('# of null visitdate values: ', df_facility['visitdate'].isna().sum())\n",
    "if df_facility['dob'].isna().sum() != 0:\n",
    "    print('# of null dob values: ', df_facility['dob'].isna().sum())"
   ]
  },
  {
   "cell_type": "code",
   "execution_count": 137,
   "id": "78d5771f-1f67-4379-bd45-38bf231d7925",
   "metadata": {},
   "outputs": [
    {
     "name": "stdout",
     "output_type": "stream",
     "text": [
      "Modifying type for dob\n"
     ]
    }
   ],
   "source": [
    "df_facility['dob'] = pd.to_datetime(df_facility['dob'], dayfirst=True, errors='coerce')\n",
    "df_facility['dob'] = df_facility['dob'].dt.date\n",
    "print('Modifying type for dob')"
   ]
  },
  {
   "cell_type": "code",
   "execution_count": 148,
   "id": "cbd76932-7e32-40c7-8f8d-89f8549bf0d2",
   "metadata": {},
   "outputs": [
    {
     "data": {
      "text/html": [
       "<div>\n",
       "<style scoped>\n",
       "    .dataframe tbody tr th:only-of-type {\n",
       "        vertical-align: middle;\n",
       "    }\n",
       "\n",
       "    .dataframe tbody tr th {\n",
       "        vertical-align: top;\n",
       "    }\n",
       "\n",
       "    .dataframe thead th {\n",
       "        text-align: right;\n",
       "    }\n",
       "</style>\n",
       "<table border=\"1\" class=\"dataframe\">\n",
       "  <thead>\n",
       "    <tr style=\"text-align: right;\">\n",
       "      <th></th>\n",
       "      <th>recnr</th>\n",
       "      <th>firstname</th>\n",
       "      <th>lastname</th>\n",
       "      <th>petname</th>\n",
       "      <th>dob</th>\n",
       "      <th>sex</th>\n",
       "      <th>nationalid</th>\n",
       "      <th>patientid</th>\n",
       "      <th>visitdate</th>\n",
       "    </tr>\n",
       "  </thead>\n",
       "  <tbody>\n",
       "    <tr>\n",
       "      <th>0</th>\n",
       "      <td>2</td>\n",
       "      <td>Fatuma</td>\n",
       "      <td>NaN</td>\n",
       "      <td>Zaina</td>\n",
       "      <td>2017-08-24</td>\n",
       "      <td>2</td>\n",
       "      <td>N_ID_5000</td>\n",
       "      <td>2069</td>\n",
       "      <td>10-09-2018</td>\n",
       "    </tr>\n",
       "    <tr>\n",
       "      <th>1</th>\n",
       "      <td>3</td>\n",
       "      <td>Gloria</td>\n",
       "      <td>Rashida</td>\n",
       "      <td>NaN</td>\n",
       "      <td>1993-07-11</td>\n",
       "      <td>2</td>\n",
       "      <td>N_ID_11861</td>\n",
       "      <td>2079</td>\n",
       "      <td>14-12-2022</td>\n",
       "    </tr>\n",
       "    <tr>\n",
       "      <th>2</th>\n",
       "      <td>4</td>\n",
       "      <td>Ali</td>\n",
       "      <td>Hakram</td>\n",
       "      <td>Igomu</td>\n",
       "      <td>2014-05-17</td>\n",
       "      <td>1</td>\n",
       "      <td>N_ID_11864</td>\n",
       "      <td>2080</td>\n",
       "      <td>09-06-2023</td>\n",
       "    </tr>\n",
       "    <tr>\n",
       "      <th>3</th>\n",
       "      <td>5</td>\n",
       "      <td>Nakalema</td>\n",
       "      <td>NaN</td>\n",
       "      <td>Nkwanga</td>\n",
       "      <td>2026-02-27</td>\n",
       "      <td>2</td>\n",
       "      <td>N_ID_11867</td>\n",
       "      <td>2081</td>\n",
       "      <td>07-02-2019</td>\n",
       "    </tr>\n",
       "    <tr>\n",
       "      <th>4</th>\n",
       "      <td>6</td>\n",
       "      <td>Asuman</td>\n",
       "      <td>Sempa</td>\n",
       "      <td>Aguti</td>\n",
       "      <td>2002-03-02</td>\n",
       "      <td>1</td>\n",
       "      <td>N_ID_11870</td>\n",
       "      <td>2082</td>\n",
       "      <td>18-08-2020</td>\n",
       "    </tr>\n",
       "    <tr>\n",
       "      <th>...</th>\n",
       "      <td>...</td>\n",
       "      <td>...</td>\n",
       "      <td>...</td>\n",
       "      <td>...</td>\n",
       "      <td>...</td>\n",
       "      <td>...</td>\n",
       "      <td>...</td>\n",
       "      <td>...</td>\n",
       "      <td>...</td>\n",
       "    </tr>\n",
       "    <tr>\n",
       "      <th>2897</th>\n",
       "      <td>2899</td>\n",
       "      <td>Madina</td>\n",
       "      <td>Nakagolo</td>\n",
       "      <td>Nkima</td>\n",
       "      <td>1955-07-28</td>\n",
       "      <td>2</td>\n",
       "      <td>N_ID_13676</td>\n",
       "      <td>4961</td>\n",
       "      <td>17-08-2021</td>\n",
       "    </tr>\n",
       "    <tr>\n",
       "      <th>2898</th>\n",
       "      <td>2900</td>\n",
       "      <td>Namulondo</td>\n",
       "      <td>Namugabwe</td>\n",
       "      <td>NaN</td>\n",
       "      <td>1933-09-14</td>\n",
       "      <td>2</td>\n",
       "      <td>N_ID_13679</td>\n",
       "      <td>4962</td>\n",
       "      <td>21-06-2019</td>\n",
       "    </tr>\n",
       "    <tr>\n",
       "      <th>2899</th>\n",
       "      <td>2901</td>\n",
       "      <td>Ziriya</td>\n",
       "      <td>Kauma</td>\n",
       "      <td>Kato</td>\n",
       "      <td>1963-11-11</td>\n",
       "      <td>2</td>\n",
       "      <td>N_ID_13682</td>\n",
       "      <td>4963</td>\n",
       "      <td>27-12-2018</td>\n",
       "    </tr>\n",
       "    <tr>\n",
       "      <th>2900</th>\n",
       "      <td>2902</td>\n",
       "      <td>Faizo</td>\n",
       "      <td>Buyinza</td>\n",
       "      <td>Ssenyonjo</td>\n",
       "      <td>1956-06-09</td>\n",
       "      <td>1</td>\n",
       "      <td>N_ID_13685</td>\n",
       "      <td>4964</td>\n",
       "      <td>01-12-2019</td>\n",
       "    </tr>\n",
       "    <tr>\n",
       "      <th>2901</th>\n",
       "      <td>2903</td>\n",
       "      <td>Namusobya</td>\n",
       "      <td>Nambi</td>\n",
       "      <td>Gia</td>\n",
       "      <td>2010-08-29</td>\n",
       "      <td>2</td>\n",
       "      <td>N_ID_13688</td>\n",
       "      <td>4965</td>\n",
       "      <td>10-06-2019</td>\n",
       "    </tr>\n",
       "  </tbody>\n",
       "</table>\n",
       "<p>2902 rows × 9 columns</p>\n",
       "</div>"
      ],
      "text/plain": [
       "      recnr  firstname   lastname    petname         dob  sex  nationalid  \\\n",
       "0         2     Fatuma        NaN      Zaina  2017-08-24    2   N_ID_5000   \n",
       "1         3     Gloria    Rashida        NaN  1993-07-11    2  N_ID_11861   \n",
       "2         4        Ali     Hakram      Igomu  2014-05-17    1  N_ID_11864   \n",
       "3         5   Nakalema        NaN    Nkwanga  2026-02-27    2  N_ID_11867   \n",
       "4         6     Asuman      Sempa      Aguti  2002-03-02    1  N_ID_11870   \n",
       "...     ...        ...        ...        ...         ...  ...         ...   \n",
       "2897   2899     Madina   Nakagolo      Nkima  1955-07-28    2  N_ID_13676   \n",
       "2898   2900  Namulondo  Namugabwe        NaN  1933-09-14    2  N_ID_13679   \n",
       "2899   2901     Ziriya      Kauma       Kato  1963-11-11    2  N_ID_13682   \n",
       "2900   2902      Faizo    Buyinza  Ssenyonjo  1956-06-09    1  N_ID_13685   \n",
       "2901   2903  Namusobya      Nambi        Gia  2010-08-29    2  N_ID_13688   \n",
       "\n",
       "      patientid   visitdate  \n",
       "0          2069  10-09-2018  \n",
       "1          2079  14-12-2022  \n",
       "2          2080  09-06-2023  \n",
       "3          2081  07-02-2019  \n",
       "4          2082  18-08-2020  \n",
       "...         ...         ...  \n",
       "2897       4961  17-08-2021  \n",
       "2898       4962  21-06-2019  \n",
       "2899       4963  27-12-2018  \n",
       "2900       4964  01-12-2019  \n",
       "2901       4965  10-06-2019  \n",
       "\n",
       "[2902 rows x 9 columns]"
      ]
     },
     "execution_count": 148,
     "metadata": {},
     "output_type": "execute_result"
    }
   ],
   "source": [
    "df_facility"
   ]
  },
  {
   "cell_type": "code",
   "execution_count": 138,
   "id": "490744c9-8f8b-4783-b696-ef05c0518c46",
   "metadata": {},
   "outputs": [
    {
     "name": "stdout",
     "output_type": "stream",
     "text": [
      "recnr           int64\n",
      "firstname      object\n",
      "lastname       object\n",
      "petname        object\n",
      "dob            object\n",
      "sex             int64\n",
      "nationalid    float64\n",
      "hdssid         object\n",
      "hdsshhid       object\n",
      "dtype: object\n"
     ]
    }
   ],
   "source": [
    "df_hdss = pd.read_csv('./dataset/synthetic_hdss_v3.csv')\n",
    "print(df_hdss.dtypes)"
   ]
  },
  {
   "cell_type": "code",
   "execution_count": 139,
   "id": "27e93b79-5abd-46fb-b85e-38356c345b3d",
   "metadata": {},
   "outputs": [
    {
     "name": "stdout",
     "output_type": "stream",
     "text": [
      "Modifying type for dob\n"
     ]
    }
   ],
   "source": [
    "df_hdss['dob'] = pd.to_datetime(df_hdss['dob'], dayfirst=True, errors='coerce')\n",
    "df_hdss['dob'] = df_hdss['dob'].dt.date\n",
    "print('Modifying type for dob')"
   ]
  },
  {
   "cell_type": "code",
   "execution_count": 140,
   "id": "795e79d6-357a-42f5-9cd3-3fa14df70c46",
   "metadata": {},
   "outputs": [
    {
     "data": {
      "text/plain": [
       "<bound method NDFrame.describe of       recnr firstname lastname   petname         dob  sex  nationalid  hdssid  \\\n",
       "0         1     Zaina   Hanifa       Ula  1930-09-22    2         NaN  I20001   \n",
       "1         2   Godfrey  Maganda    Mukama  1934-07-15    1         NaN  I20002   \n",
       "2         3     Kasim    Ngobi  Galabuzi  1983-03-03    1         NaN  I20003   \n",
       "3         4    Esther      NaN     Inara  1968-07-30    2         NaN  I20004   \n",
       "4         5    Sumaya  Swabula       NaN  1930-12-13    2         NaN  I20005   \n",
       "...     ...       ...      ...       ...         ...  ...         ...     ...   \n",
       "4110   4111   Sharita  Nabirye       NaN  1981-03-18    2         NaN  I24111   \n",
       "4111   4112    Tenywa   Kapiso   Biraaro  1998-06-28    1         NaN  I24112   \n",
       "4112   4113    Mariam  Babirye       NaN  1986-04-03    2         NaN  I24113   \n",
       "4113   4114   Nangobi    Tracy       NaN  2001-12-19    2         NaN  I24114   \n",
       "4114   4115    Joshua   Kasubi   Najjuma  1990-08-23    1         NaN  I24115   \n",
       "\n",
       "      hdsshhid  \n",
       "0     HH100001  \n",
       "1     HH100002  \n",
       "2     HH100003  \n",
       "3     HH100004  \n",
       "4     HH100005  \n",
       "...        ...  \n",
       "4110  HH104111  \n",
       "4111  HH104112  \n",
       "4112  HH104113  \n",
       "4113  HH104114  \n",
       "4114  HH104115  \n",
       "\n",
       "[4115 rows x 9 columns]>"
      ]
     },
     "execution_count": 140,
     "metadata": {},
     "output_type": "execute_result"
    }
   ],
   "source": [
    "df_hdss.describe"
   ]
  },
  {
   "cell_type": "code",
   "execution_count": 141,
   "id": "0a29f11a-849b-46b5-aeac-7ecb23ab8225",
   "metadata": {},
   "outputs": [
    {
     "data": {
      "text/plain": [
       "(4115, 9)"
      ]
     },
     "execution_count": 141,
     "metadata": {},
     "output_type": "execute_result"
    }
   ],
   "source": [
    "df_hdss.shape"
   ]
  },
  {
   "cell_type": "code",
   "execution_count": 142,
   "id": "972280f3-d0ad-47e6-8795-55797f0231b8",
   "metadata": {},
   "outputs": [
    {
     "name": "stdout",
     "output_type": "stream",
     "text": [
      "# of non-unique nationalid values:  0\n",
      "# of null nationalid values:  4115\n"
     ]
    }
   ],
   "source": [
    "# Checking for non-null\n",
    "if df_hdss['recnr'].nunique() != df_hdss.shape[0]:\n",
    "    print('# of non-unique recnr values: ', df_hdss['recnr'].nunique())\n",
    "if df_hdss['recnr'].isna().sum() != 0:\n",
    "    print('# of recnr null values: ', df_hdss['recnr'].isna().sum())\n",
    "if df_hdss['sex'].isna().sum() != 0:\n",
    "    print('# of sex null values: ', df_hdss['sex'].isna().sum())\n",
    "if df_hdss['nationalid'].nunique() != df_hdss.shape[0]:\n",
    "    print('# of non-unique nationalid values: ', df_hdss['nationalid'].nunique())\n",
    "if df_hdss['nationalid'].isna().sum() != 0:\n",
    "    print('# of null nationalid values: ', df_hdss['nationalid'].isna().sum())\n",
    "if df_hdss['petname'].isna().sum() == df_hdss.shape[0]:\n",
    "    print('# all null petname column: ', dh_hdss['petname'].isna().sum())\n",
    "if df_hdss['dob'].isna().sum() != 0:\n",
    "    print('# of null dob values: ', df_hdss['dob'].isna().sum())\n",
    "if df_hdss['hdssid'].nunique() != df_hdss.shape[0]:\n",
    "    print('# of non-unique hdssid values: ', df_hdss['hdssid'].nunique())\n",
    "if df_hdss['hdssid'].isna().sum() != 0:\n",
    "    print('# of hdssid null values: ', df_hdss['hdssid'].isna().sum())\n",
    "if df_hdss['hdsshhid'].nunique() != df_hdss.shape[0]:\n",
    "    print('# of non-unique hdsshhid values: ', df_hdss['hdsshhid'].nunique())\n",
    "if df_hdss['hdsshhid'].isna().sum() != 0:\n",
    "    print('# of hdsshhid null values: ', df_hdss['hdsshhid'].isna().sum())"
   ]
  },
  {
   "cell_type": "code",
   "execution_count": 143,
   "id": "cb5c4bc1-2240-4614-95f4-5cd6e51c1efe",
   "metadata": {},
   "outputs": [
    {
     "name": "stdout",
     "output_type": "stream",
     "text": [
      "['recnr', 'firstname', 'lastname', 'petname', 'dob', 'sex', 'hdssid', 'hdsshhid']\n",
      "drop column(nationalid) without a value\n"
     ]
    }
   ],
   "source": [
    "df_hdss.drop('nationalid', axis=1, inplace=True)\n",
    "print(list(df_hdss.columns))\n",
    "print('drop column(nationalid) without a value')"
   ]
  },
  {
   "cell_type": "code",
   "execution_count": 146,
   "id": "a8f5e1a3-980f-4624-8b84-e8bbd6f15c2a",
   "metadata": {},
   "outputs": [
    {
     "data": {
      "text/html": [
       "<div>\n",
       "<style scoped>\n",
       "    .dataframe tbody tr th:only-of-type {\n",
       "        vertical-align: middle;\n",
       "    }\n",
       "\n",
       "    .dataframe tbody tr th {\n",
       "        vertical-align: top;\n",
       "    }\n",
       "\n",
       "    .dataframe thead th {\n",
       "        text-align: right;\n",
       "    }\n",
       "</style>\n",
       "<table border=\"1\" class=\"dataframe\">\n",
       "  <thead>\n",
       "    <tr style=\"text-align: right;\">\n",
       "      <th></th>\n",
       "      <th>recnr</th>\n",
       "      <th>firstname</th>\n",
       "      <th>lastname</th>\n",
       "      <th>petname</th>\n",
       "      <th>dob</th>\n",
       "      <th>sex</th>\n",
       "      <th>hdssid</th>\n",
       "      <th>hdsshhid</th>\n",
       "    </tr>\n",
       "  </thead>\n",
       "  <tbody>\n",
       "    <tr>\n",
       "      <th>0</th>\n",
       "      <td>1</td>\n",
       "      <td>Zaina</td>\n",
       "      <td>Hanifa</td>\n",
       "      <td>Ula</td>\n",
       "      <td>1930-09-22</td>\n",
       "      <td>2</td>\n",
       "      <td>I20001</td>\n",
       "      <td>HH100001</td>\n",
       "    </tr>\n",
       "    <tr>\n",
       "      <th>1</th>\n",
       "      <td>2</td>\n",
       "      <td>Godfrey</td>\n",
       "      <td>Maganda</td>\n",
       "      <td>Mukama</td>\n",
       "      <td>1934-07-15</td>\n",
       "      <td>1</td>\n",
       "      <td>I20002</td>\n",
       "      <td>HH100002</td>\n",
       "    </tr>\n",
       "    <tr>\n",
       "      <th>2</th>\n",
       "      <td>3</td>\n",
       "      <td>Kasim</td>\n",
       "      <td>Ngobi</td>\n",
       "      <td>Galabuzi</td>\n",
       "      <td>1983-03-03</td>\n",
       "      <td>1</td>\n",
       "      <td>I20003</td>\n",
       "      <td>HH100003</td>\n",
       "    </tr>\n",
       "    <tr>\n",
       "      <th>3</th>\n",
       "      <td>4</td>\n",
       "      <td>Esther</td>\n",
       "      <td>NaN</td>\n",
       "      <td>Inara</td>\n",
       "      <td>1968-07-30</td>\n",
       "      <td>2</td>\n",
       "      <td>I20004</td>\n",
       "      <td>HH100004</td>\n",
       "    </tr>\n",
       "    <tr>\n",
       "      <th>4</th>\n",
       "      <td>5</td>\n",
       "      <td>Sumaya</td>\n",
       "      <td>Swabula</td>\n",
       "      <td>NaN</td>\n",
       "      <td>1930-12-13</td>\n",
       "      <td>2</td>\n",
       "      <td>I20005</td>\n",
       "      <td>HH100005</td>\n",
       "    </tr>\n",
       "    <tr>\n",
       "      <th>...</th>\n",
       "      <td>...</td>\n",
       "      <td>...</td>\n",
       "      <td>...</td>\n",
       "      <td>...</td>\n",
       "      <td>...</td>\n",
       "      <td>...</td>\n",
       "      <td>...</td>\n",
       "      <td>...</td>\n",
       "    </tr>\n",
       "    <tr>\n",
       "      <th>4110</th>\n",
       "      <td>4111</td>\n",
       "      <td>Sharita</td>\n",
       "      <td>Nabirye</td>\n",
       "      <td>NaN</td>\n",
       "      <td>1981-03-18</td>\n",
       "      <td>2</td>\n",
       "      <td>I24111</td>\n",
       "      <td>HH104111</td>\n",
       "    </tr>\n",
       "    <tr>\n",
       "      <th>4111</th>\n",
       "      <td>4112</td>\n",
       "      <td>Tenywa</td>\n",
       "      <td>Kapiso</td>\n",
       "      <td>Biraaro</td>\n",
       "      <td>1998-06-28</td>\n",
       "      <td>1</td>\n",
       "      <td>I24112</td>\n",
       "      <td>HH104112</td>\n",
       "    </tr>\n",
       "    <tr>\n",
       "      <th>4112</th>\n",
       "      <td>4113</td>\n",
       "      <td>Mariam</td>\n",
       "      <td>Babirye</td>\n",
       "      <td>NaN</td>\n",
       "      <td>1986-04-03</td>\n",
       "      <td>2</td>\n",
       "      <td>I24113</td>\n",
       "      <td>HH104113</td>\n",
       "    </tr>\n",
       "    <tr>\n",
       "      <th>4113</th>\n",
       "      <td>4114</td>\n",
       "      <td>Nangobi</td>\n",
       "      <td>Tracy</td>\n",
       "      <td>NaN</td>\n",
       "      <td>2001-12-19</td>\n",
       "      <td>2</td>\n",
       "      <td>I24114</td>\n",
       "      <td>HH104114</td>\n",
       "    </tr>\n",
       "    <tr>\n",
       "      <th>4114</th>\n",
       "      <td>4115</td>\n",
       "      <td>Joshua</td>\n",
       "      <td>Kasubi</td>\n",
       "      <td>Najjuma</td>\n",
       "      <td>1990-08-23</td>\n",
       "      <td>1</td>\n",
       "      <td>I24115</td>\n",
       "      <td>HH104115</td>\n",
       "    </tr>\n",
       "  </tbody>\n",
       "</table>\n",
       "<p>4115 rows × 8 columns</p>\n",
       "</div>"
      ],
      "text/plain": [
       "      recnr firstname lastname   petname         dob  sex  hdssid  hdsshhid\n",
       "0         1     Zaina   Hanifa       Ula  1930-09-22    2  I20001  HH100001\n",
       "1         2   Godfrey  Maganda    Mukama  1934-07-15    1  I20002  HH100002\n",
       "2         3     Kasim    Ngobi  Galabuzi  1983-03-03    1  I20003  HH100003\n",
       "3         4    Esther      NaN     Inara  1968-07-30    2  I20004  HH100004\n",
       "4         5    Sumaya  Swabula       NaN  1930-12-13    2  I20005  HH100005\n",
       "...     ...       ...      ...       ...         ...  ...     ...       ...\n",
       "4110   4111   Sharita  Nabirye       NaN  1981-03-18    2  I24111  HH104111\n",
       "4111   4112    Tenywa   Kapiso   Biraaro  1998-06-28    1  I24112  HH104112\n",
       "4112   4113    Mariam  Babirye       NaN  1986-04-03    2  I24113  HH104113\n",
       "4113   4114   Nangobi    Tracy       NaN  2001-12-19    2  I24114  HH104114\n",
       "4114   4115    Joshua   Kasubi   Najjuma  1990-08-23    1  I24115  HH104115\n",
       "\n",
       "[4115 rows x 8 columns]"
      ]
     },
     "execution_count": 146,
     "metadata": {},
     "output_type": "execute_result"
    }
   ],
   "source": [
    "df_hdss"
   ]
  }
 ],
 "metadata": {
  "kernelspec": {
   "display_name": "Python 3 (ipykernel)",
   "language": "python",
   "name": "python3"
  },
  "language_info": {
   "codemirror_mode": {
    "name": "ipython",
    "version": 3
   },
   "file_extension": ".py",
   "mimetype": "text/x-python",
   "name": "python",
   "nbconvert_exporter": "python",
   "pygments_lexer": "ipython3",
   "version": "3.10.12"
  }
 },
 "nbformat": 4,
 "nbformat_minor": 5
}
